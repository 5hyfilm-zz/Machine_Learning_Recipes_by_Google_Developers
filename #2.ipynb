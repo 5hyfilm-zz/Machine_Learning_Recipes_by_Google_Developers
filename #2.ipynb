{
 "cells": [
  {
   "cell_type": "markdown",
   "metadata": {},
   "source": [
    "# Let's see Iris Dataset"
   ]
  },
  {
   "cell_type": "code",
   "execution_count": 1,
   "metadata": {},
   "outputs": [],
   "source": [
    "from sklearn.datasets import load_iris"
   ]
  },
  {
   "cell_type": "code",
   "execution_count": 2,
   "metadata": {},
   "outputs": [],
   "source": [
    "iris = load_iris()"
   ]
  },
  {
   "cell_type": "code",
   "execution_count": 3,
   "metadata": {},
   "outputs": [
    {
     "name": "stdout",
     "output_type": "stream",
     "text": [
      "['sepal length (cm)', 'sepal width (cm)', 'petal length (cm)', 'petal width (cm)']\n"
     ]
    }
   ],
   "source": [
    "print(iris.feature_names)"
   ]
  },
  {
   "cell_type": "code",
   "execution_count": 4,
   "metadata": {},
   "outputs": [
    {
     "name": "stdout",
     "output_type": "stream",
     "text": [
      "['setosa' 'versicolor' 'virginica']\n"
     ]
    }
   ],
   "source": [
    "print(iris.target_names)"
   ]
  },
  {
   "cell_type": "code",
   "execution_count": 5,
   "metadata": {},
   "outputs": [
    {
     "name": "stdout",
     "output_type": "stream",
     "text": [
      "[4.4 2.9 1.4 0.2]\n"
     ]
    }
   ],
   "source": [
    "print(iris.data[8])"
   ]
  },
  {
   "cell_type": "code",
   "execution_count": 6,
   "metadata": {},
   "outputs": [
    {
     "name": "stdout",
     "output_type": "stream",
     "text": [
      "0\n"
     ]
    }
   ],
   "source": [
    "print(iris.target[9])"
   ]
  },
  {
   "cell_type": "code",
   "execution_count": 7,
   "metadata": {},
   "outputs": [
    {
     "name": "stdout",
     "output_type": "stream",
     "text": [
      "Example 0: Label 0, feature [5.1 3.5 1.4 0.2]\n",
      "Example 1: Label 0, feature [4.9 3.  1.4 0.2]\n",
      "Example 2: Label 0, feature [4.7 3.2 1.3 0.2]\n",
      "Example 3: Label 0, feature [4.6 3.1 1.5 0.2]\n",
      "Example 4: Label 0, feature [5.  3.6 1.4 0.2]\n",
      "Example 5: Label 0, feature [5.4 3.9 1.7 0.4]\n",
      "Example 6: Label 0, feature [4.6 3.4 1.4 0.3]\n",
      "Example 7: Label 0, feature [5.  3.4 1.5 0.2]\n",
      "Example 8: Label 0, feature [4.4 2.9 1.4 0.2]\n",
      "Example 9: Label 0, feature [4.9 3.1 1.5 0.1]\n",
      "Example 10: Label 0, feature [5.4 3.7 1.5 0.2]\n",
      "Example 11: Label 0, feature [4.8 3.4 1.6 0.2]\n",
      "Example 12: Label 0, feature [4.8 3.  1.4 0.1]\n",
      "Example 13: Label 0, feature [4.3 3.  1.1 0.1]\n",
      "Example 14: Label 0, feature [5.8 4.  1.2 0.2]\n",
      "Example 15: Label 0, feature [5.7 4.4 1.5 0.4]\n",
      "Example 16: Label 0, feature [5.4 3.9 1.3 0.4]\n",
      "Example 17: Label 0, feature [5.1 3.5 1.4 0.3]\n",
      "Example 18: Label 0, feature [5.7 3.8 1.7 0.3]\n",
      "Example 19: Label 0, feature [5.1 3.8 1.5 0.3]\n",
      "Example 20: Label 0, feature [5.4 3.4 1.7 0.2]\n",
      "Example 21: Label 0, feature [5.1 3.7 1.5 0.4]\n",
      "Example 22: Label 0, feature [4.6 3.6 1.  0.2]\n",
      "Example 23: Label 0, feature [5.1 3.3 1.7 0.5]\n",
      "Example 24: Label 0, feature [4.8 3.4 1.9 0.2]\n",
      "Example 25: Label 0, feature [5.  3.  1.6 0.2]\n",
      "Example 26: Label 0, feature [5.  3.4 1.6 0.4]\n",
      "Example 27: Label 0, feature [5.2 3.5 1.5 0.2]\n",
      "Example 28: Label 0, feature [5.2 3.4 1.4 0.2]\n",
      "Example 29: Label 0, feature [4.7 3.2 1.6 0.2]\n",
      "Example 30: Label 0, feature [4.8 3.1 1.6 0.2]\n",
      "Example 31: Label 0, feature [5.4 3.4 1.5 0.4]\n",
      "Example 32: Label 0, feature [5.2 4.1 1.5 0.1]\n",
      "Example 33: Label 0, feature [5.5 4.2 1.4 0.2]\n",
      "Example 34: Label 0, feature [4.9 3.1 1.5 0.2]\n",
      "Example 35: Label 0, feature [5.  3.2 1.2 0.2]\n",
      "Example 36: Label 0, feature [5.5 3.5 1.3 0.2]\n",
      "Example 37: Label 0, feature [4.9 3.6 1.4 0.1]\n",
      "Example 38: Label 0, feature [4.4 3.  1.3 0.2]\n",
      "Example 39: Label 0, feature [5.1 3.4 1.5 0.2]\n",
      "Example 40: Label 0, feature [5.  3.5 1.3 0.3]\n",
      "Example 41: Label 0, feature [4.5 2.3 1.3 0.3]\n",
      "Example 42: Label 0, feature [4.4 3.2 1.3 0.2]\n",
      "Example 43: Label 0, feature [5.  3.5 1.6 0.6]\n",
      "Example 44: Label 0, feature [5.1 3.8 1.9 0.4]\n",
      "Example 45: Label 0, feature [4.8 3.  1.4 0.3]\n",
      "Example 46: Label 0, feature [5.1 3.8 1.6 0.2]\n",
      "Example 47: Label 0, feature [4.6 3.2 1.4 0.2]\n",
      "Example 48: Label 0, feature [5.3 3.7 1.5 0.2]\n",
      "Example 49: Label 0, feature [5.  3.3 1.4 0.2]\n",
      "Example 50: Label 1, feature [7.  3.2 4.7 1.4]\n",
      "Example 51: Label 1, feature [6.4 3.2 4.5 1.5]\n",
      "Example 52: Label 1, feature [6.9 3.1 4.9 1.5]\n",
      "Example 53: Label 1, feature [5.5 2.3 4.  1.3]\n",
      "Example 54: Label 1, feature [6.5 2.8 4.6 1.5]\n",
      "Example 55: Label 1, feature [5.7 2.8 4.5 1.3]\n",
      "Example 56: Label 1, feature [6.3 3.3 4.7 1.6]\n",
      "Example 57: Label 1, feature [4.9 2.4 3.3 1. ]\n",
      "Example 58: Label 1, feature [6.6 2.9 4.6 1.3]\n",
      "Example 59: Label 1, feature [5.2 2.7 3.9 1.4]\n",
      "Example 60: Label 1, feature [5.  2.  3.5 1. ]\n",
      "Example 61: Label 1, feature [5.9 3.  4.2 1.5]\n",
      "Example 62: Label 1, feature [6.  2.2 4.  1. ]\n",
      "Example 63: Label 1, feature [6.1 2.9 4.7 1.4]\n",
      "Example 64: Label 1, feature [5.6 2.9 3.6 1.3]\n",
      "Example 65: Label 1, feature [6.7 3.1 4.4 1.4]\n",
      "Example 66: Label 1, feature [5.6 3.  4.5 1.5]\n",
      "Example 67: Label 1, feature [5.8 2.7 4.1 1. ]\n",
      "Example 68: Label 1, feature [6.2 2.2 4.5 1.5]\n",
      "Example 69: Label 1, feature [5.6 2.5 3.9 1.1]\n",
      "Example 70: Label 1, feature [5.9 3.2 4.8 1.8]\n",
      "Example 71: Label 1, feature [6.1 2.8 4.  1.3]\n",
      "Example 72: Label 1, feature [6.3 2.5 4.9 1.5]\n",
      "Example 73: Label 1, feature [6.1 2.8 4.7 1.2]\n",
      "Example 74: Label 1, feature [6.4 2.9 4.3 1.3]\n",
      "Example 75: Label 1, feature [6.6 3.  4.4 1.4]\n",
      "Example 76: Label 1, feature [6.8 2.8 4.8 1.4]\n",
      "Example 77: Label 1, feature [6.7 3.  5.  1.7]\n",
      "Example 78: Label 1, feature [6.  2.9 4.5 1.5]\n",
      "Example 79: Label 1, feature [5.7 2.6 3.5 1. ]\n",
      "Example 80: Label 1, feature [5.5 2.4 3.8 1.1]\n",
      "Example 81: Label 1, feature [5.5 2.4 3.7 1. ]\n",
      "Example 82: Label 1, feature [5.8 2.7 3.9 1.2]\n",
      "Example 83: Label 1, feature [6.  2.7 5.1 1.6]\n",
      "Example 84: Label 1, feature [5.4 3.  4.5 1.5]\n",
      "Example 85: Label 1, feature [6.  3.4 4.5 1.6]\n",
      "Example 86: Label 1, feature [6.7 3.1 4.7 1.5]\n",
      "Example 87: Label 1, feature [6.3 2.3 4.4 1.3]\n",
      "Example 88: Label 1, feature [5.6 3.  4.1 1.3]\n",
      "Example 89: Label 1, feature [5.5 2.5 4.  1.3]\n",
      "Example 90: Label 1, feature [5.5 2.6 4.4 1.2]\n",
      "Example 91: Label 1, feature [6.1 3.  4.6 1.4]\n",
      "Example 92: Label 1, feature [5.8 2.6 4.  1.2]\n",
      "Example 93: Label 1, feature [5.  2.3 3.3 1. ]\n",
      "Example 94: Label 1, feature [5.6 2.7 4.2 1.3]\n",
      "Example 95: Label 1, feature [5.7 3.  4.2 1.2]\n",
      "Example 96: Label 1, feature [5.7 2.9 4.2 1.3]\n",
      "Example 97: Label 1, feature [6.2 2.9 4.3 1.3]\n",
      "Example 98: Label 1, feature [5.1 2.5 3.  1.1]\n",
      "Example 99: Label 1, feature [5.7 2.8 4.1 1.3]\n",
      "Example 100: Label 2, feature [6.3 3.3 6.  2.5]\n",
      "Example 101: Label 2, feature [5.8 2.7 5.1 1.9]\n",
      "Example 102: Label 2, feature [7.1 3.  5.9 2.1]\n",
      "Example 103: Label 2, feature [6.3 2.9 5.6 1.8]\n",
      "Example 104: Label 2, feature [6.5 3.  5.8 2.2]\n",
      "Example 105: Label 2, feature [7.6 3.  6.6 2.1]\n",
      "Example 106: Label 2, feature [4.9 2.5 4.5 1.7]\n",
      "Example 107: Label 2, feature [7.3 2.9 6.3 1.8]\n",
      "Example 108: Label 2, feature [6.7 2.5 5.8 1.8]\n",
      "Example 109: Label 2, feature [7.2 3.6 6.1 2.5]\n",
      "Example 110: Label 2, feature [6.5 3.2 5.1 2. ]\n",
      "Example 111: Label 2, feature [6.4 2.7 5.3 1.9]\n",
      "Example 112: Label 2, feature [6.8 3.  5.5 2.1]\n",
      "Example 113: Label 2, feature [5.7 2.5 5.  2. ]\n",
      "Example 114: Label 2, feature [5.8 2.8 5.1 2.4]\n",
      "Example 115: Label 2, feature [6.4 3.2 5.3 2.3]\n",
      "Example 116: Label 2, feature [6.5 3.  5.5 1.8]\n",
      "Example 117: Label 2, feature [7.7 3.8 6.7 2.2]\n",
      "Example 118: Label 2, feature [7.7 2.6 6.9 2.3]\n",
      "Example 119: Label 2, feature [6.  2.2 5.  1.5]\n",
      "Example 120: Label 2, feature [6.9 3.2 5.7 2.3]\n",
      "Example 121: Label 2, feature [5.6 2.8 4.9 2. ]\n",
      "Example 122: Label 2, feature [7.7 2.8 6.7 2. ]\n",
      "Example 123: Label 2, feature [6.3 2.7 4.9 1.8]\n",
      "Example 124: Label 2, feature [6.7 3.3 5.7 2.1]\n",
      "Example 125: Label 2, feature [7.2 3.2 6.  1.8]\n",
      "Example 126: Label 2, feature [6.2 2.8 4.8 1.8]\n",
      "Example 127: Label 2, feature [6.1 3.  4.9 1.8]\n",
      "Example 128: Label 2, feature [6.4 2.8 5.6 2.1]\n",
      "Example 129: Label 2, feature [7.2 3.  5.8 1.6]\n",
      "Example 130: Label 2, feature [7.4 2.8 6.1 1.9]\n",
      "Example 131: Label 2, feature [7.9 3.8 6.4 2. ]\n",
      "Example 132: Label 2, feature [6.4 2.8 5.6 2.2]\n",
      "Example 133: Label 2, feature [6.3 2.8 5.1 1.5]\n",
      "Example 134: Label 2, feature [6.1 2.6 5.6 1.4]\n",
      "Example 135: Label 2, feature [7.7 3.  6.1 2.3]\n",
      "Example 136: Label 2, feature [6.3 3.4 5.6 2.4]\n",
      "Example 137: Label 2, feature [6.4 3.1 5.5 1.8]\n",
      "Example 138: Label 2, feature [6.  3.  4.8 1.8]\n",
      "Example 139: Label 2, feature [6.9 3.1 5.4 2.1]\n",
      "Example 140: Label 2, feature [6.7 3.1 5.6 2.4]\n",
      "Example 141: Label 2, feature [6.9 3.1 5.1 2.3]\n",
      "Example 142: Label 2, feature [5.8 2.7 5.1 1.9]\n",
      "Example 143: Label 2, feature [6.8 3.2 5.9 2.3]\n",
      "Example 144: Label 2, feature [6.7 3.3 5.7 2.5]\n",
      "Example 145: Label 2, feature [6.7 3.  5.2 2.3]\n",
      "Example 146: Label 2, feature [6.3 2.5 5.  1.9]\n",
      "Example 147: Label 2, feature [6.5 3.  5.2 2. ]\n",
      "Example 148: Label 2, feature [6.2 3.4 5.4 2.3]\n",
      "Example 149: Label 2, feature [5.9 3.  5.1 1.8]\n"
     ]
    }
   ],
   "source": [
    "for i in range(len(iris.target)):\n",
    "    print(\"Example %d: Label %s, feature %s\"% (i, iris.target[i], iris.data[i]))"
   ]
  },
  {
   "cell_type": "markdown",
   "metadata": {},
   "source": [
    "# Train Model"
   ]
  },
  {
   "cell_type": "code",
   "execution_count": 8,
   "metadata": {},
   "outputs": [],
   "source": [
    "import numpy as np\n",
    "from sklearn import tree"
   ]
  },
  {
   "cell_type": "code",
   "execution_count": 9,
   "metadata": {},
   "outputs": [],
   "source": [
    "test_idx = [0, 50, 100]"
   ]
  },
  {
   "cell_type": "code",
   "execution_count": 10,
   "metadata": {},
   "outputs": [],
   "source": [
    "train_target = np.delete(iris.target, test_idx)\n",
    "train_data = np.delete(iris.data, test_idx, axis = 0)"
   ]
  },
  {
   "cell_type": "code",
   "execution_count": 11,
   "metadata": {},
   "outputs": [],
   "source": [
    "test_target = iris.target[test_idx]\n",
    "test_data = iris.data[test_idx]"
   ]
  },
  {
   "cell_type": "code",
   "execution_count": 12,
   "metadata": {},
   "outputs": [
    {
     "data": {
      "text/plain": [
       "DecisionTreeClassifier(class_weight=None, criterion='gini', max_depth=None,\n",
       "                       max_features=None, max_leaf_nodes=None,\n",
       "                       min_impurity_decrease=0.0, min_impurity_split=None,\n",
       "                       min_samples_leaf=1, min_samples_split=2,\n",
       "                       min_weight_fraction_leaf=0.0, presort=False,\n",
       "                       random_state=None, splitter='best')"
      ]
     },
     "execution_count": 12,
     "metadata": {},
     "output_type": "execute_result"
    }
   ],
   "source": [
    "clf = tree.DecisionTreeClassifier()\n",
    "clf.fit(train_data, train_target)"
   ]
  },
  {
   "cell_type": "code",
   "execution_count": 13,
   "metadata": {},
   "outputs": [
    {
     "name": "stderr",
     "output_type": "stream",
     "text": [
      "/Library/Frameworks/Python.framework/Versions/3.7/lib/python3.7/site-packages/sklearn/externals/six.py:31: DeprecationWarning: The module is deprecated in version 0.21 and will be removed in version 0.23 since we've dropped support for Python 2.7. Please rely on the official version of six (https://pypi.org/project/six/).\n",
      "  \"(https://pypi.org/project/six/).\", DeprecationWarning)\n"
     ]
    }
   ],
   "source": [
    "from sklearn.externals.six import StringIO\n",
    "import pydot"
   ]
  },
  {
   "cell_type": "code",
   "execution_count": 14,
   "metadata": {},
   "outputs": [],
   "source": [
    "dot_data = StringIO()\n",
    "tree.export_graphviz(clf,\n",
    "                    out_file=dot_data,\n",
    "                    feature_names=iris.feature_names,\n",
    "                    filled=True, rounded=True,\n",
    "                    impurity=False)"
   ]
  },
  {
   "cell_type": "code",
   "execution_count": 15,
   "metadata": {},
   "outputs": [
    {
     "ename": "FileNotFoundError",
     "evalue": "[Errno 2] \"dot\" not found in path.",
     "output_type": "error",
     "traceback": [
      "\u001b[0;31m---------------------------------------------------------------------------\u001b[0m",
      "\u001b[0;31mFileNotFoundError\u001b[0m                         Traceback (most recent call last)",
      "\u001b[0;32m/Library/Frameworks/Python.framework/Versions/3.7/lib/python3.7/site-packages/pydot.py\u001b[0m in \u001b[0;36mcreate\u001b[0;34m(self, prog, format, encoding)\u001b[0m\n\u001b[1;32m   1914\u001b[0m                 \u001b[0marguments\u001b[0m\u001b[0;34m=\u001b[0m\u001b[0marguments\u001b[0m\u001b[0;34m,\u001b[0m\u001b[0;34m\u001b[0m\u001b[0;34m\u001b[0m\u001b[0m\n\u001b[0;32m-> 1915\u001b[0;31m                 \u001b[0mworking_dir\u001b[0m\u001b[0;34m=\u001b[0m\u001b[0mtmp_dir\u001b[0m\u001b[0;34m,\u001b[0m\u001b[0;34m\u001b[0m\u001b[0;34m\u001b[0m\u001b[0m\n\u001b[0m\u001b[1;32m   1916\u001b[0m             )\n",
      "\u001b[0;32m/Library/Frameworks/Python.framework/Versions/3.7/lib/python3.7/site-packages/pydot.py\u001b[0m in \u001b[0;36mcall_graphviz\u001b[0;34m(program, arguments, working_dir, **kwargs)\u001b[0m\n\u001b[1;32m    135\u001b[0m         \u001b[0mstdout\u001b[0m\u001b[0;34m=\u001b[0m\u001b[0msubprocess\u001b[0m\u001b[0;34m.\u001b[0m\u001b[0mPIPE\u001b[0m\u001b[0;34m,\u001b[0m\u001b[0;34m\u001b[0m\u001b[0;34m\u001b[0m\u001b[0m\n\u001b[0;32m--> 136\u001b[0;31m         \u001b[0;34m**\u001b[0m\u001b[0mkwargs\u001b[0m\u001b[0;34m\u001b[0m\u001b[0;34m\u001b[0m\u001b[0m\n\u001b[0m\u001b[1;32m    137\u001b[0m     )\n",
      "\u001b[0;32m/Library/Frameworks/Python.framework/Versions/3.7/lib/python3.7/subprocess.py\u001b[0m in \u001b[0;36m__init__\u001b[0;34m(self, args, bufsize, executable, stdin, stdout, stderr, preexec_fn, close_fds, shell, cwd, env, universal_newlines, startupinfo, creationflags, restore_signals, start_new_session, pass_fds, encoding, errors, text)\u001b[0m\n\u001b[1;32m    774\u001b[0m                                 \u001b[0merrread\u001b[0m\u001b[0;34m,\u001b[0m \u001b[0merrwrite\u001b[0m\u001b[0;34m,\u001b[0m\u001b[0;34m\u001b[0m\u001b[0;34m\u001b[0m\u001b[0m\n\u001b[0;32m--> 775\u001b[0;31m                                 restore_signals, start_new_session)\n\u001b[0m\u001b[1;32m    776\u001b[0m         \u001b[0;32mexcept\u001b[0m\u001b[0;34m:\u001b[0m\u001b[0;34m\u001b[0m\u001b[0;34m\u001b[0m\u001b[0m\n",
      "\u001b[0;32m/Library/Frameworks/Python.framework/Versions/3.7/lib/python3.7/subprocess.py\u001b[0m in \u001b[0;36m_execute_child\u001b[0;34m(self, args, executable, preexec_fn, close_fds, pass_fds, cwd, env, startupinfo, creationflags, shell, p2cread, p2cwrite, c2pread, c2pwrite, errread, errwrite, restore_signals, start_new_session)\u001b[0m\n\u001b[1;32m   1521\u001b[0m                             \u001b[0merr_msg\u001b[0m \u001b[0;34m+=\u001b[0m \u001b[0;34m': '\u001b[0m \u001b[0;34m+\u001b[0m \u001b[0mrepr\u001b[0m\u001b[0;34m(\u001b[0m\u001b[0merr_filename\u001b[0m\u001b[0;34m)\u001b[0m\u001b[0;34m\u001b[0m\u001b[0;34m\u001b[0m\u001b[0m\n\u001b[0;32m-> 1522\u001b[0;31m                     \u001b[0;32mraise\u001b[0m \u001b[0mchild_exception_type\u001b[0m\u001b[0;34m(\u001b[0m\u001b[0merrno_num\u001b[0m\u001b[0;34m,\u001b[0m \u001b[0merr_msg\u001b[0m\u001b[0;34m,\u001b[0m \u001b[0merr_filename\u001b[0m\u001b[0;34m)\u001b[0m\u001b[0;34m\u001b[0m\u001b[0;34m\u001b[0m\u001b[0m\n\u001b[0m\u001b[1;32m   1523\u001b[0m                 \u001b[0;32mraise\u001b[0m \u001b[0mchild_exception_type\u001b[0m\u001b[0;34m(\u001b[0m\u001b[0merr_msg\u001b[0m\u001b[0;34m)\u001b[0m\u001b[0;34m\u001b[0m\u001b[0;34m\u001b[0m\u001b[0m\n",
      "\u001b[0;31mFileNotFoundError\u001b[0m: [Errno 2] No such file or directory: 'dot': 'dot'",
      "\nDuring handling of the above exception, another exception occurred:\n",
      "\u001b[0;31mFileNotFoundError\u001b[0m                         Traceback (most recent call last)",
      "\u001b[0;32m<ipython-input-15-7bf7cbbfc1dd>\u001b[0m in \u001b[0;36m<module>\u001b[0;34m\u001b[0m\n\u001b[1;32m      1\u001b[0m \u001b[0mgraph\u001b[0m \u001b[0;34m=\u001b[0m \u001b[0mpydot\u001b[0m\u001b[0;34m.\u001b[0m\u001b[0mgraph_from_dot_data\u001b[0m\u001b[0;34m(\u001b[0m\u001b[0mdot_data\u001b[0m\u001b[0;34m.\u001b[0m\u001b[0mgetvalue\u001b[0m\u001b[0;34m(\u001b[0m\u001b[0;34m)\u001b[0m\u001b[0;34m)\u001b[0m\u001b[0;34m\u001b[0m\u001b[0;34m\u001b[0m\u001b[0m\n\u001b[0;32m----> 2\u001b[0;31m \u001b[0mgraph\u001b[0m\u001b[0;34m[\u001b[0m\u001b[0;36m0\u001b[0m\u001b[0;34m]\u001b[0m\u001b[0;34m.\u001b[0m\u001b[0mwrite_pdf\u001b[0m\u001b[0;34m(\u001b[0m\u001b[0;34m\"iris.pdf\"\u001b[0m\u001b[0;34m)\u001b[0m\u001b[0;34m\u001b[0m\u001b[0;34m\u001b[0m\u001b[0m\n\u001b[0m",
      "\u001b[0;32m/Library/Frameworks/Python.framework/Versions/3.7/lib/python3.7/site-packages/pydot.py\u001b[0m in \u001b[0;36mnew_method\u001b[0;34m(path, f, prog, encoding)\u001b[0m\n\u001b[1;32m   1732\u001b[0m                 self.write(\n\u001b[1;32m   1733\u001b[0m                     \u001b[0mpath\u001b[0m\u001b[0;34m,\u001b[0m \u001b[0mformat\u001b[0m\u001b[0;34m=\u001b[0m\u001b[0mf\u001b[0m\u001b[0;34m,\u001b[0m \u001b[0mprog\u001b[0m\u001b[0;34m=\u001b[0m\u001b[0mprog\u001b[0m\u001b[0;34m,\u001b[0m\u001b[0;34m\u001b[0m\u001b[0;34m\u001b[0m\u001b[0m\n\u001b[0;32m-> 1734\u001b[0;31m                     encoding=encoding)\n\u001b[0m\u001b[1;32m   1735\u001b[0m             \u001b[0mname\u001b[0m \u001b[0;34m=\u001b[0m \u001b[0;34m'write_{fmt}'\u001b[0m\u001b[0;34m.\u001b[0m\u001b[0mformat\u001b[0m\u001b[0;34m(\u001b[0m\u001b[0mfmt\u001b[0m\u001b[0;34m=\u001b[0m\u001b[0mfrmt\u001b[0m\u001b[0;34m)\u001b[0m\u001b[0;34m\u001b[0m\u001b[0;34m\u001b[0m\u001b[0m\n\u001b[1;32m   1736\u001b[0m             \u001b[0mself\u001b[0m\u001b[0;34m.\u001b[0m\u001b[0m__setattr__\u001b[0m\u001b[0;34m(\u001b[0m\u001b[0mname\u001b[0m\u001b[0;34m,\u001b[0m \u001b[0mnew_method\u001b[0m\u001b[0;34m)\u001b[0m\u001b[0;34m\u001b[0m\u001b[0;34m\u001b[0m\u001b[0m\n",
      "\u001b[0;32m/Library/Frameworks/Python.framework/Versions/3.7/lib/python3.7/site-packages/pydot.py\u001b[0m in \u001b[0;36mwrite\u001b[0;34m(self, path, prog, format, encoding)\u001b[0m\n\u001b[1;32m   1815\u001b[0m                 \u001b[0mf\u001b[0m\u001b[0;34m.\u001b[0m\u001b[0mwrite\u001b[0m\u001b[0;34m(\u001b[0m\u001b[0ms\u001b[0m\u001b[0;34m)\u001b[0m\u001b[0;34m\u001b[0m\u001b[0;34m\u001b[0m\u001b[0m\n\u001b[1;32m   1816\u001b[0m         \u001b[0;32melse\u001b[0m\u001b[0;34m:\u001b[0m\u001b[0;34m\u001b[0m\u001b[0;34m\u001b[0m\u001b[0m\n\u001b[0;32m-> 1817\u001b[0;31m             \u001b[0ms\u001b[0m \u001b[0;34m=\u001b[0m \u001b[0mself\u001b[0m\u001b[0;34m.\u001b[0m\u001b[0mcreate\u001b[0m\u001b[0;34m(\u001b[0m\u001b[0mprog\u001b[0m\u001b[0;34m,\u001b[0m \u001b[0mformat\u001b[0m\u001b[0;34m,\u001b[0m \u001b[0mencoding\u001b[0m\u001b[0;34m=\u001b[0m\u001b[0mencoding\u001b[0m\u001b[0;34m)\u001b[0m\u001b[0;34m\u001b[0m\u001b[0;34m\u001b[0m\u001b[0m\n\u001b[0m\u001b[1;32m   1818\u001b[0m             \u001b[0;32mwith\u001b[0m \u001b[0mio\u001b[0m\u001b[0;34m.\u001b[0m\u001b[0mopen\u001b[0m\u001b[0;34m(\u001b[0m\u001b[0mpath\u001b[0m\u001b[0;34m,\u001b[0m \u001b[0mmode\u001b[0m\u001b[0;34m=\u001b[0m\u001b[0;34m'wb'\u001b[0m\u001b[0;34m)\u001b[0m \u001b[0;32mas\u001b[0m \u001b[0mf\u001b[0m\u001b[0;34m:\u001b[0m\u001b[0;34m\u001b[0m\u001b[0;34m\u001b[0m\u001b[0m\n\u001b[1;32m   1819\u001b[0m                 \u001b[0mf\u001b[0m\u001b[0;34m.\u001b[0m\u001b[0mwrite\u001b[0m\u001b[0;34m(\u001b[0m\u001b[0ms\u001b[0m\u001b[0;34m)\u001b[0m\u001b[0;34m\u001b[0m\u001b[0;34m\u001b[0m\u001b[0m\n",
      "\u001b[0;32m/Library/Frameworks/Python.framework/Versions/3.7/lib/python3.7/site-packages/pydot.py\u001b[0m in \u001b[0;36mcreate\u001b[0;34m(self, prog, format, encoding)\u001b[0m\n\u001b[1;32m   1920\u001b[0m                 args[1] = '\"{prog}\" not found in path.'.format(\n\u001b[1;32m   1921\u001b[0m                     prog=prog)\n\u001b[0;32m-> 1922\u001b[0;31m                 \u001b[0;32mraise\u001b[0m \u001b[0mOSError\u001b[0m\u001b[0;34m(\u001b[0m\u001b[0;34m*\u001b[0m\u001b[0margs\u001b[0m\u001b[0;34m)\u001b[0m\u001b[0;34m\u001b[0m\u001b[0;34m\u001b[0m\u001b[0m\n\u001b[0m\u001b[1;32m   1923\u001b[0m             \u001b[0;32melse\u001b[0m\u001b[0;34m:\u001b[0m\u001b[0;34m\u001b[0m\u001b[0;34m\u001b[0m\u001b[0m\n\u001b[1;32m   1924\u001b[0m                 \u001b[0;32mraise\u001b[0m\u001b[0;34m\u001b[0m\u001b[0;34m\u001b[0m\u001b[0m\n",
      "\u001b[0;31mFileNotFoundError\u001b[0m: [Errno 2] \"dot\" not found in path."
     ]
    }
   ],
   "source": [
    "graph = pydot.graph_from_dot_data(dot_data.getvalue())\n",
    "graph[0].write_pdf(\"iris.pdf\")"
   ]
  },
  {
   "cell_type": "code",
   "execution_count": null,
   "metadata": {},
   "outputs": [],
   "source": []
  }
 ],
 "metadata": {
  "kernelspec": {
   "display_name": "Python 3",
   "language": "python",
   "name": "python3"
  },
  "language_info": {
   "codemirror_mode": {
    "name": "ipython",
    "version": 3
   },
   "file_extension": ".py",
   "mimetype": "text/x-python",
   "name": "python",
   "nbconvert_exporter": "python",
   "pygments_lexer": "ipython3",
   "version": "3.7.4"
  }
 },
 "nbformat": 4,
 "nbformat_minor": 2
}
